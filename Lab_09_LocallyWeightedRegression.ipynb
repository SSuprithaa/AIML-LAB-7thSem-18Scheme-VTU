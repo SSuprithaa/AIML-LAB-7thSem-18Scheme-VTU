{
  "nbformat": 4,
  "nbformat_minor": 0,
  "metadata": {
    "colab": {
      "provenance": [],
      "authorship_tag": "ABX9TyP0uFLnwFofIIWDhjMdcaXI"
    },
    "kernelspec": {
      "name": "python3",
      "display_name": "Python 3"
    },
    "language_info": {
      "name": "python"
    }
  },
  "cells": [
    {
      "cell_type": "markdown",
      "source": [
        "**LOCALLY** **WEIGHTED** **REGRESSION**\n"
      ],
      "metadata": {
        "id": "HgJZVP8TY0vI"
      }
    },
    {
      "cell_type": "code",
      "source": [
        "#import pandas for data analysis,numpy to work with array,sklearn for training and testing spliting purpose and matplotlib for plotting graphs\n",
        "import pandas as pd\n",
        "import numpy as np\n",
        "import matplotlib.pyplot as plt\n",
        "from sklearn.model_selection import train_test_split\n",
        "tou=0.8\n",
        "#define X_train,X_test,y_train,y_test\n",
        "X_train = np.array(list(range(3,33))+[3.2,4.2])\n",
        "X_train\n"
      ],
      "metadata": {
        "colab": {
          "base_uri": "https://localhost:8080/"
        },
        "id": "lzmVCoMnY9CX",
        "outputId": "24832115-478d-48b8-9f12-df002b8b600a"
      },
      "execution_count": null,
      "outputs": [
        {
          "output_type": "execute_result",
          "data": {
            "text/plain": [
              "array([ 3. ,  4. ,  5. ,  6. ,  7. ,  8. ,  9. , 10. , 11. , 12. , 13. ,\n",
              "       14. , 15. , 16. , 17. , 18. , 19. , 20. , 21. , 22. , 23. , 24. ,\n",
              "       25. , 26. , 27. , 28. , 29. , 30. , 31. , 32. ,  3.2,  4.2])"
            ]
          },
          "metadata": {},
          "execution_count": 19
        }
      ]
    },
    {
      "cell_type": "code",
      "source": [
        "X_train = X_train[:,np.newaxis]\n",
        "y_train= np.array([1,2,1,2,3,4,5,6,7,8,1,2,6,7,8,12,11,11,10,13,14,15,16,17,18,20,34,22,21,20,22,20])\n",
        "X_test = np.array([i/10. for i in range(400)])\n",
        "X_test = X_test[:,np.newaxis]\n",
        "y_test = []"
      ],
      "metadata": {
        "id": "y--GUr9HZgpU"
      },
      "execution_count": null,
      "outputs": []
    },
    {
      "cell_type": "code",
      "source": [
        "count=0\n",
        "for r in range(len(X_test)):\n",
        "  try:\n",
        "    wt = np.exp(-np.sum((X_train-X_test[r])**2,axis=1)/(2*tou)**2)\n",
        "    w = np.diag(wt)\n",
        "    fact1 = np.linalg.inv(X_train.T.dot(w).dot(X_train))\n",
        "    parameter = fact1.dot(X_train.T).dot(w).dot(y_train)\n",
        "    predictions = X_test[r].dot(parameter)\n",
        "    y_test.append(predictions)\n",
        "  except:\n",
        "    pass\n",
        "y_test = np.array(y_test)\n",
        "plt.plot(X_train.squeeze(),y_train,'o')\n",
        "plt.plot(X_test.squeeze(),y_test,'*')\n",
        "plt.show()"
      ],
      "metadata": {
        "colab": {
          "base_uri": "https://localhost:8080/",
          "height": 265
        },
        "id": "HdTy-qita25e",
        "outputId": "07f1e847-77b3-4a1a-9612-5a6c1cffe2be"
      },
      "execution_count": null,
      "outputs": [
        {
          "output_type": "display_data",
          "data": {
            "text/plain": [
              "<Figure size 432x288 with 1 Axes>"
            ],
            "image/png": "[encoded data removed]"
          },
          "metadata": {
            "needs_background": "light"
          }
        }
      ]
    }
  ]
}