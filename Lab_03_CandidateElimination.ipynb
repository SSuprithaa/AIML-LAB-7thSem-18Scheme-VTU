{
  "nbformat": 4,
  "nbformat_minor": 0,
  "metadata": {
    "colab": {
      "provenance": [],
      "authorship_tag": "ABX9TyNUVP5wuoz6fX/ex/x7bCLT"
    },
    "kernelspec": {
      "name": "python3",
      "display_name": "Python 3"
    },
    "language_info": {
      "name": "python"
    }
  },
  "cells": [
    {
      "cell_type": "markdown",
      "source": [
        "**Candidate Elimination**"
      ],
      "metadata": {
        "id": "YsQ0csAt1m_v"
      }
    },
    {
      "cell_type": "code",
      "execution_count": null,
      "metadata": {
        "colab": {
          "base_uri": "https://localhost:8080/"
        },
        "id": "NtoB1svXmKt4",
        "outputId": "b14a000b-6606-4606-f9c8-3da703b74cee"
      },
      "outputs": [
        {
          "output_type": "stream",
          "name": "stdout",
          "text": [
            "Concepts:\n",
            " [[0 'Sunny' 'Warm' 'Normal' 'Strong' 'Warm' 'Same']\n",
            " [1 'Sunny' 'Warm' 'High' 'Strong' 'Warm' 'Same']\n",
            " [2 'Rainy' 'Cold' 'High' 'Strong' 'Warm' 'Change']\n",
            " [3 'Sunny' 'Warm' 'High' 'Strong' 'Cool' 'Change']]\n",
            "Target:\n",
            " ['Y' 'Y' 'N' 'Y']\n"
          ]
        }
      ],
      "source": [
        "import pandas as pd\n",
        "import numpy as np\n",
        "data = pd.DataFrame(data=pd.read_csv(\"enjoySport.csv\"))\n",
        "concepts = np.array(data.iloc[:,0:-1])\n",
        "print(\"Concepts:\\n\",concepts)\n",
        "target = np.array(data.iloc[:,-1])\n",
        "print(\"Target:\\n\",target)"
      ]
    },
    {
      "cell_type": "code",
      "source": [
        "def learn(concepts,target):\n",
        "  specific_h = concepts[0].copy()\n",
        "  print(\"Intialization of specific_h and general_h:\\n\")\n",
        "  print(specific_h)\n",
        "  general_h = [[\"?\" for i in range(len(specific_h))] for i in range(len(specific_h))]\n",
        "  print(general_h)\n",
        "  for i,h in enumerate(concepts):\n",
        "    if target[i]=='Y':\n",
        "      for x in range(len(specific_h)):\n",
        "        if h[x]!= specific_h[x]:\n",
        "          specific_h[x]='?'\n",
        "          general_h[x][x]='?'\n",
        "    if target[i]=='N':\n",
        "      for x in range(len(specific_h)):\n",
        "        if h[x]!=specific_h[x]:\n",
        "          general_h[x][x]=specific_h[x]\n",
        "        else:\n",
        "          general_h[x][x]='?'\n",
        "  print(\"Steps of candidate elimination:\\n\")\n",
        "  print(specific_h)\n",
        "  print(general_h)\n",
        "  indices = [ i for i,val in enumerate(general_h) if val == ['?','?','?','?','?','?']]\n",
        "  for i in indices:\n",
        "    general_h.remove(['?','?','?','?','?','?'])\n",
        "  return specific_h,general_h\n",
        "s_final,g_final = learn(concepts,target)\n",
        "print(\"Final_specific : \",s_final,sep='\\n')\n",
        "print(\"Final_general : \",g_final,sep='\\n')\n",
        "\n",
        "\n"
      ],
      "metadata": {
        "colab": {
          "base_uri": "https://localhost:8080/"
        },
        "id": "vTxesX6one03",
        "outputId": "62a86c0e-3ba5-49f5-abd0-2f4325f2fcc1"
      },
      "execution_count": null,
      "outputs": [
        {
          "output_type": "stream",
          "name": "stdout",
          "text": [
            "Intialization of specific_h and general_h:\n",
            "\n",
            "[0 'Sunny' 'Warm' 'Normal' 'Strong' 'Warm' 'Same']\n",
            "[['?', '?', '?', '?', '?', '?', '?'], ['?', '?', '?', '?', '?', '?', '?'], ['?', '?', '?', '?', '?', '?', '?'], ['?', '?', '?', '?', '?', '?', '?'], ['?', '?', '?', '?', '?', '?', '?'], ['?', '?', '?', '?', '?', '?', '?'], ['?', '?', '?', '?', '?', '?', '?']]\n",
            "Steps of candidate elimination:\n",
            "\n",
            "['?' 'Sunny' 'Warm' '?' 'Strong' '?' '?']\n",
            "[['?', '?', '?', '?', '?', '?', '?'], ['?', 'Sunny', '?', '?', '?', '?', '?'], ['?', '?', 'Warm', '?', '?', '?', '?'], ['?', '?', '?', '?', '?', '?', '?'], ['?', '?', '?', '?', '?', '?', '?'], ['?', '?', '?', '?', '?', '?', '?'], ['?', '?', '?', '?', '?', '?', '?']]\n",
            "Final_specific : \n",
            "['?' 'Sunny' 'Warm' '?' 'Strong' '?' '?']\n",
            "Final_general : \n",
            "[['?', '?', '?', '?', '?', '?', '?'], ['?', 'Sunny', '?', '?', '?', '?', '?'], ['?', '?', 'Warm', '?', '?', '?', '?'], ['?', '?', '?', '?', '?', '?', '?'], ['?', '?', '?', '?', '?', '?', '?'], ['?', '?', '?', '?', '?', '?', '?'], ['?', '?', '?', '?', '?', '?', '?']]\n"
          ]
        }
      ]
    }
  ]
}