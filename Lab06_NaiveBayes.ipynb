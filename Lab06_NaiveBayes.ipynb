{
  "nbformat": 4,
  "nbformat_minor": 0,
  "metadata": {
    "colab": {
      "provenance": [],
      "authorship_tag": "ABX9TyM6fIPz0SOqoe843hHmKxCn"
    },
    "kernelspec": {
      "name": "python3",
      "display_name": "Python 3"
    },
    "language_info": {
      "name": "python"
    }
  },
  "cells": [
    {
      "cell_type": "code",
      "execution_count": 13,
      "metadata": {
        "colab": {
          "base_uri": "https://localhost:8080/"
        },
        "id": "vxJixIaTAAAF",
        "outputId": "ef291a9c-8d52-48a0-faa6-65d38f933e14"
      },
      "outputs": [
        {
          "output_type": "stream",
          "name": "stdout",
          "text": [
            "     Pregnancies  Glucose  BloodPressure  SkinThickness  Insulin   BMI  \\\n",
            "0            6.0    148.0           72.0           35.0      0.0  33.6   \n",
            "2            8.0    183.0           64.0            0.0      0.0  23.3   \n",
            "4            0.0    137.0           40.0           35.0    168.0  43.1   \n",
            "13           1.0    189.0           60.0           23.0    846.0  30.1   \n",
            "14           5.0    166.0           72.0           19.0    175.0  25.8   \n",
            "..           ...      ...            ...            ...      ...   ...   \n",
            "733          2.0    106.0           56.0           27.0    165.0  29.0   \n",
            "738          2.0     99.0           60.0           17.0    160.0  36.6   \n",
            "752          3.0    108.0           62.0           24.0      0.0  26.0   \n",
            "763         10.0    101.0           76.0           48.0    180.0  32.9   \n",
            "764          2.0    122.0           70.0           27.0      0.0  36.8   \n",
            "\n",
            "     DiabetesPedigreeFunction   Age  Outcome  \n",
            "0                       0.627  50.0      1.0  \n",
            "2                       0.672  32.0      1.0  \n",
            "4                       2.288  33.0      1.0  \n",
            "13                      0.398  59.0      1.0  \n",
            "14                      0.587  51.0      1.0  \n",
            "..                        ...   ...      ...  \n",
            "733                     0.426  22.0      0.0  \n",
            "738                     0.453  21.0      0.0  \n",
            "752                     0.223  25.0      0.0  \n",
            "763                     0.171  63.0      0.0  \n",
            "764                     0.340  27.0      0.0  \n",
            "\n",
            "[154 rows x 9 columns]\n"
          ]
        }
      ],
      "source": [
        "import pandas as pd\n",
        "import numpy as np\n",
        "filename = 'diabetes.csv'\n",
        "df = pd.read_csv(filename)\n",
        "df = df.astype(float)\n",
        "train = df.sample(frac=0.8,random_state=100)\n",
        "test = df.drop(train.index)\n",
        "print(test)"
      ]
    },
    {
      "cell_type": "code",
      "source": [
        "outcome_group = train.groupby(df.columns[-1])\n",
        "n_attr = len(df.columns)-1\n",
        "summaries = {}\n",
        "for classValue,instances in outcome_group:\n",
        "  attr_mv = []\n",
        "  mean= list(instances.mean(axis=0).values)\n",
        "  stdev= list(instances.std(axis=0).values)\n",
        "  \n",
        "  for i in range (n_attr):\n",
        "    attr_mv.append([mean[i],stdev[i]])\n",
        "  summaries[classValue]=attr_mv\n",
        "  print(classValue)\n",
        "  print(summaries)"
      ],
      "metadata": {
        "colab": {
          "base_uri": "https://localhost:8080/"
        },
        "id": "pWPGbeOlCNq9",
        "outputId": "16ed4654-5da8-4e02-ad5b-be0d973ae72f"
      },
      "execution_count": 4,
      "outputs": [
        {
          "output_type": "stream",
          "name": "stdout",
          "text": [
            "0.0\n",
            "{0.0: [[3.2130325814536342, 2.972610408317797], [109.76942355889724, 26.905603970990228], [68.4812030075188, 17.522677985264334], [20.100250626566417, 14.665790191703916], [72.43358395989975, 96.65287822555396], [30.435338345864665, 7.7580581756384905], [0.43053634085213033, 0.2915681446463359], [30.86967418546366, 11.496036356224192]]}\n",
            "1.0\n",
            "{0.0: [[3.2130325814536342, 2.972610408317797], [109.76942355889724, 26.905603970990228], [68.4812030075188, 17.522677985264334], [20.100250626566417, 14.665790191703916], [72.43358395989975, 96.65287822555396], [30.435338345864665, 7.7580581756384905], [0.43053634085213033, 0.2915681446463359], [30.86967418546366, 11.496036356224192]], 1.0: [[4.902325581395349, 3.852993033222635], [142.09302325581396, 29.85260829685783], [71.14418604651163, 21.708619485476845], [22.29767441860465, 18.08223024522044], [89.81860465116279, 114.64875097814037], [35.415813953488374, 7.527291849134547], [0.5482744186046512, 0.3672769639764627], [36.948837209302326, 10.998818375214015]]}\n"
          ]
        }
      ]
    },
    {
      "cell_type": "code",
      "source": [
        "import math\n",
        "def calculateProb(x,mean,stdev):\n",
        "  exponent = math.exp(-math.pow(x-mean,2)/(2*(math.pow(stdev,2))))\n",
        "  return( 1/(math.sqrt(2*math.pi)*math.pow(stdev,2)))*exponent\n",
        "\n",
        "def calculateClassProb(summaries,x_vec):\n",
        "  probablities = {}\n",
        "  for classValue,classSummaries in summaries.items():\n",
        "    probablities[classValue]=1\n",
        "    for i in range(len(classSummaries)):\n",
        "      mean,stdev = classSummaries[i]\n",
        "      x = x_vec[i]\n",
        "      probablities[classValue]*= calculateProb(x,mean,stdev)\n",
        "  return probablities\n",
        "\n",
        "def predict(summaries,x_vec):\n",
        "  prob = calculateClassProb(summaries,x_vec)\n",
        "  bestlabel,bestprob = None,-1\n",
        "  for classValue,probality in prob.items():\n",
        "    if bestlabel is None or probality>bestprob:\n",
        "      bestlabel = classValue\n",
        "      bestprob = probality\n",
        "  return bestlabel\n"
      ],
      "metadata": {
        "id": "RA0lUDDFEQEK"
      },
      "execution_count": 5,
      "outputs": []
    },
    {
      "cell_type": "code",
      "source": [
        "predictions=[]\n",
        "testset = test.values.tolist()\n",
        "\n",
        "for i in range(len(testset)):\n",
        "  result = predict(summaries, testset[i])\n",
        "  predictions.append(result)\n"
      ],
      "metadata": {
        "id": "ggtjH_yYG7yk"
      },
      "execution_count": 12,
      "outputs": []
    },
    {
      "cell_type": "code",
      "source": [
        "def getaccuracy(test,predictions):\n",
        "  correct = 0\n",
        "  for i in range(len(test)):\n",
        "    if test.iloc[i,-1]==predictions[i]:\n",
        "      correct+= 1\n",
        "  return (correct/float(len(test)))*100.0\n",
        "accuracy = getaccuracy(test,predictions)\n",
        "print(f'Accuracy: {accuracy}')\n",
        "print(f'Split {len(df)} rows into train {len(train)} and test {len(test)}') "
      ],
      "metadata": {
        "colab": {
          "base_uri": "https://localhost:8080/"
        },
        "id": "Gla_jNidKKe3",
        "outputId": "df590f1a-51ca-4def-9eae-bcccdd69268f"
      },
      "execution_count": 11,
      "outputs": [
        {
          "output_type": "stream",
          "name": "stdout",
          "text": [
            "Accuracy: 74.67532467532467\n",
            "Split 768 rows into train 614 and test 154\n"
          ]
        }
      ]
    }
  ]
}