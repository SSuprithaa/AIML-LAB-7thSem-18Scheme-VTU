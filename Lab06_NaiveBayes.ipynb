{
  "nbformat": 4,
  "nbformat_minor": 0,
  "metadata": {
    "colab": {
      "provenance": [],
      "authorship_tag": "ABX9TyNTBKu5MfiCXdpdNYYQG+DU"
    },
    "kernelspec": {
      "name": "python3",
      "display_name": "Python 3"
    },
    "language_info": {
      "name": "python"
    }
  },
  "cells": [
    {
      "cell_type": "code",
      "execution_count": null,
      "metadata": {
        "colab": {
          "base_uri": "https://localhost:8080/"
        },
        "id": "vxJixIaTAAAF",
        "outputId": "4b1ab302-935a-40e8-be7a-bf4eae70bbd2"
      },
      "outputs": [
        {
          "output_type": "stream",
          "name": "stdout",
          "text": [
            "     Pregnancies  Glucose  BloodPressure  SkinThickness  Insulin   BMI  \\\n",
            "173          1.0     79.0           60.0           42.0     48.0  43.5   \n",
            "253          0.0     86.0           68.0           32.0      0.0  35.8   \n",
            "207          5.0    162.0          104.0            0.0      0.0  37.7   \n",
            "737          8.0     65.0           72.0           23.0      0.0  32.0   \n",
            "191          9.0    123.0           70.0           44.0     94.0  33.1   \n",
            "..           ...      ...            ...            ...      ...   ...   \n",
            "401          6.0    137.0           61.0            0.0      0.0  24.2   \n",
            "82           7.0     83.0           78.0           26.0     71.0  29.3   \n",
            "650          1.0     91.0           54.0           25.0    100.0  25.2   \n",
            "721          1.0    114.0           66.0           36.0    200.0  38.1   \n",
            "74           1.0     79.0           75.0           30.0      0.0  32.0   \n",
            "\n",
            "     DiabetesPedigreeFunction   Age  Outcome  \n",
            "173                     0.678  23.0      0.0  \n",
            "253                     0.238  25.0      0.0  \n",
            "207                     0.151  52.0      1.0  \n",
            "737                     0.600  42.0      0.0  \n",
            "191                     0.374  40.0      0.0  \n",
            "..                        ...   ...      ...  \n",
            "401                     0.151  55.0      0.0  \n",
            "82                      0.767  36.0      0.0  \n",
            "650                     0.234  23.0      0.0  \n",
            "721                     0.289  21.0      0.0  \n",
            "74                      0.396  22.0      0.0  \n",
            "\n",
            "[614 rows x 9 columns]\n",
            "     Pregnancies  Glucose  BloodPressure  SkinThickness  Insulin   BMI  \\\n",
            "0            6.0    148.0           72.0           35.0      0.0  33.6   \n",
            "2            8.0    183.0           64.0            0.0      0.0  23.3   \n",
            "4            0.0    137.0           40.0           35.0    168.0  43.1   \n",
            "13           1.0    189.0           60.0           23.0    846.0  30.1   \n",
            "14           5.0    166.0           72.0           19.0    175.0  25.8   \n",
            "..           ...      ...            ...            ...      ...   ...   \n",
            "733          2.0    106.0           56.0           27.0    165.0  29.0   \n",
            "738          2.0     99.0           60.0           17.0    160.0  36.6   \n",
            "752          3.0    108.0           62.0           24.0      0.0  26.0   \n",
            "763         10.0    101.0           76.0           48.0    180.0  32.9   \n",
            "764          2.0    122.0           70.0           27.0      0.0  36.8   \n",
            "\n",
            "     DiabetesPedigreeFunction   Age  Outcome  \n",
            "0                       0.627  50.0      1.0  \n",
            "2                       0.672  32.0      1.0  \n",
            "4                       2.288  33.0      1.0  \n",
            "13                      0.398  59.0      1.0  \n",
            "14                      0.587  51.0      1.0  \n",
            "..                        ...   ...      ...  \n",
            "733                     0.426  22.0      0.0  \n",
            "738                     0.453  21.0      0.0  \n",
            "752                     0.223  25.0      0.0  \n",
            "763                     0.171  63.0      0.0  \n",
            "764                     0.340  27.0      0.0  \n",
            "\n",
            "[154 rows x 9 columns]\n"
          ]
        }
      ],
      "source": [
        "import pandas as pd\n",
        "import numpy as np\n",
        "filename = 'diabetes.csv'\n",
        "df = pd.read_csv(filename)\n",
        "df = df.astype(float)\n",
        "train = df.sample(frac=0.8,random_state=100)\n",
        "print(train)\n",
        "test = df.drop(train.index)\n",
        "print(test)"
      ]
    },
    {
      "cell_type": "code",
      "source": [
        "outcome_group = train.groupby(df.columns[-1])\n",
        "n_attr = len(df.columns)-1\n",
        "summaries = {}\n",
        "for classValue,instances in outcome_group:\n",
        "  attr_mv = []\n",
        "  mean= list(instances.mean(axis=0).values)\n",
        "  stdev= list(instances.std(axis=0).values)\n",
        "  \n",
        "  for i in range (n_attr):\n",
        "    attr_mv.append([mean[i],stdev[i]])\n",
        "  summaries[classValue]=attr_mv\n",
        "  print(classValue)\n",
        "  print(summaries)"
      ],
      "metadata": {
        "colab": {
          "base_uri": "https://localhost:8080/"
        },
        "id": "pWPGbeOlCNq9",
        "outputId": "ba774471-29d4-4baa-8642-594f029d945f"
      },
      "execution_count": null,
      "outputs": [
        {
          "output_type": "stream",
          "name": "stdout",
          "text": [
            "0.0\n",
            "{0.0: [[3.2130325814536342, 2.972610408317797], [109.76942355889724, 26.905603970990228], [68.4812030075188, 17.522677985264334], [20.100250626566417, 14.665790191703916], [72.43358395989975, 96.65287822555396], [30.435338345864665, 7.7580581756384905], [0.43053634085213033, 0.2915681446463359], [30.86967418546366, 11.496036356224192]]}\n",
            "1.0\n",
            "{0.0: [[3.2130325814536342, 2.972610408317797], [109.76942355889724, 26.905603970990228], [68.4812030075188, 17.522677985264334], [20.100250626566417, 14.665790191703916], [72.43358395989975, 96.65287822555396], [30.435338345864665, 7.7580581756384905], [0.43053634085213033, 0.2915681446463359], [30.86967418546366, 11.496036356224192]], 1.0: [[4.902325581395349, 3.852993033222635], [142.09302325581396, 29.85260829685783], [71.14418604651163, 21.708619485476845], [22.29767441860465, 18.08223024522044], [89.81860465116279, 114.64875097814037], [35.415813953488374, 7.527291849134547], [0.5482744186046512, 0.3672769639764627], [36.948837209302326, 10.998818375214015]]}\n"
          ]
        }
      ]
    },
    {
      "cell_type": "code",
      "source": [
        "import math\n",
        "def calculateProb(x,mean,stdev):\n",
        "  exponent = math.exp(-math.pow(x-mean,2)/(2*(math.pow(stdev,2))))\n",
        "  return( 1/(math.sqrt(2*math.pi)*math.pow(stdev,2)))*exponent\n",
        "\n",
        "def calculateClassProb(summaries,x_vec):\n",
        "  probablities = {}\n",
        "  for classValue,classSummaries in summaries.items():\n",
        "    probablities[classValue]=1\n",
        "    for i in range(len(classSummaries)):\n",
        "      mean,stdev = classSummaries[i]\n",
        "      x = x_vec[i]\n",
        "      probablities[classValue]*= calculateProb(x,mean,stdev)\n",
        "  return probablities\n",
        "\n",
        "def predict(summaries,x_vec):\n",
        "  prob = calculateClassProb(summaries,x_vec)\n",
        "  bestlabel,bestprob = None,-1\n",
        "  for classValue,probality in prob.items():\n",
        "    if bestlabel is None or probality>bestprob:\n",
        "      bestlabel = classValue\n",
        "      bestprob = probality\n",
        "  return bestlabel\n"
      ],
      "metadata": {
        "id": "RA0lUDDFEQEK"
      },
      "execution_count": null,
      "outputs": []
    },
    {
      "cell_type": "code",
      "source": [
        "predictions=[]\n",
        "testset = test.values.tolist()\n",
        "print(testset)\n",
        "print(len(testset))\n",
        "for i in range(len(testset)):\n",
        "  result = predict(summaries, testset[i])\n",
        "  \n"
      ],
      "metadata": {
        "colab": {
          "base_uri": "https://localhost:8080/",
          "height": 235
        },
        "id": "ggtjH_yYG7yk",
        "outputId": "2eafbc33-23d9-4a28-9849-2f3ce889240f"
      },
      "execution_count": 1,
      "outputs": [
        {
          "output_type": "error",
          "ename": "NameError",
          "evalue": "ignored",
          "traceback": [
            "\u001b[0;31m---------------------------------------------------------------------------\u001b[0m",
            "\u001b[0;31mNameError\u001b[0m                                 Traceback (most recent call last)",
            "\u001b[0;32m<ipython-input-1-65d007e16576>\u001b[0m in \u001b[0;36m<module>\u001b[0;34m\u001b[0m\n\u001b[1;32m      1\u001b[0m \u001b[0mpredictions\u001b[0m\u001b[0;34m=\u001b[0m\u001b[0;34m[\u001b[0m\u001b[0;34m]\u001b[0m\u001b[0;34m\u001b[0m\u001b[0;34m\u001b[0m\u001b[0m\n\u001b[0;32m----> 2\u001b[0;31m \u001b[0mtestset\u001b[0m \u001b[0;34m=\u001b[0m \u001b[0mtest\u001b[0m\u001b[0;34m.\u001b[0m\u001b[0mvalues\u001b[0m\u001b[0;34m.\u001b[0m\u001b[0mtolist\u001b[0m\u001b[0;34m(\u001b[0m\u001b[0;34m)\u001b[0m\u001b[0;34m\u001b[0m\u001b[0;34m\u001b[0m\u001b[0m\n\u001b[0m\u001b[1;32m      3\u001b[0m \u001b[0mprint\u001b[0m\u001b[0;34m(\u001b[0m\u001b[0mtestset\u001b[0m\u001b[0;34m)\u001b[0m\u001b[0;34m\u001b[0m\u001b[0;34m\u001b[0m\u001b[0m\n\u001b[1;32m      4\u001b[0m \u001b[0mprint\u001b[0m\u001b[0;34m(\u001b[0m\u001b[0mlen\u001b[0m\u001b[0;34m(\u001b[0m\u001b[0mtestset\u001b[0m\u001b[0;34m)\u001b[0m\u001b[0;34m)\u001b[0m\u001b[0;34m\u001b[0m\u001b[0;34m\u001b[0m\u001b[0m\n\u001b[1;32m      5\u001b[0m \u001b[0;32mfor\u001b[0m \u001b[0mi\u001b[0m \u001b[0;32min\u001b[0m \u001b[0mrange\u001b[0m\u001b[0;34m(\u001b[0m\u001b[0mlen\u001b[0m\u001b[0;34m(\u001b[0m\u001b[0mtestset\u001b[0m\u001b[0;34m)\u001b[0m\u001b[0;34m)\u001b[0m\u001b[0;34m:\u001b[0m\u001b[0;34m\u001b[0m\u001b[0;34m\u001b[0m\u001b[0m\n",
            "\u001b[0;31mNameError\u001b[0m: name 'test' is not defined"
          ]
        }
      ]
    },
    {
      "cell_type": "code",
      "source": [
        "def getaccuracy(test,predictions):\n",
        "  correct = 0\n",
        "  for i in range(len(test)):\n",
        "    if test.iloc[i,-1]==predictions[i]:\n",
        "      correct+= 1\n",
        "  return (correct/float(len(test)))*100.0\n",
        "accuracy = getaccuracy(test,predictions)\n",
        "print(f'Accuracy: {accuracy}')\n",
        "print(f'Split {len(df)} rows into train {len(train)} and test {len(test)}') "
      ],
      "metadata": {
        "colab": {
          "base_uri": "https://localhost:8080/"
        },
        "id": "Gla_jNidKKe3",
        "outputId": "4585427b-be3b-4e97-c51a-89a6056223b6"
      },
      "execution_count": null,
      "outputs": [
        {
          "output_type": "stream",
          "name": "stdout",
          "text": [
            "Accuracy: 74.67532467532467\n",
            "Split 768 rows into train 614 and test 154\n"
          ]
        }
      ]
    }
  ]
}