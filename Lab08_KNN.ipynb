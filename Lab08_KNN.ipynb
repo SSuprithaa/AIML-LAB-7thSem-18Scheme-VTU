{
  "nbformat": 4,
  "nbformat_minor": 0,
  "metadata": {
    "colab": {
      "provenance": [],
      "authorship_tag": "ABX9TyN2/Y88Xbnh+qXBvkpQ5O38"
    },
    "kernelspec": {
      "name": "python3",
      "display_name": "Python 3"
    },
    "language_info": {
      "name": "python"
    }
  },
  "cells": [
    {
      "cell_type": "code",
      "execution_count": null,
      "metadata": {
        "id": "avQSJ-EnlhEv"
      },
      "outputs": [],
      "source": [
        "import pandas as pd\n",
        "import numpy as np\n",
        "import matplotlib.pyplot as plt\n",
        "from sklearn.datasets import load_iris\n",
        "iris = load_iris()\n",
        "X = iris.data\n",
        "y = iris.target\n"
      ]
    },
    {
      "cell_type": "code",
      "source": [
        "from sklearn.model_selection import train_test_split\n",
        "X_train,X_test,y_train,y_test = train_test_split(X,y,test_size=0.20,random_state=23)\n",
        "print(iris.data.shape)\n",
        "print(\"Training Set:\",len(X_train))\n",
        "print(\"Testing set:\",len(X_test))"
      ],
      "metadata": {
        "colab": {
          "base_uri": "https://localhost:8080/"
        },
        "id": "ZDgZD_cwmKdn",
        "outputId": "6e29fff4-7279-4078-eb01-da2990078117"
      },
      "execution_count": null,
      "outputs": [
        {
          "output_type": "stream",
          "name": "stdout",
          "text": [
            "(150, 4)\n",
            "Training Set: 120\n",
            "Testing set: 30\n"
          ]
        }
      ]
    },
    {
      "cell_type": "code",
      "source": [
        "from sklearn.neighbors import KNeighborsClassifier\n",
        "knn = KNeighborsClassifier(n_neighbors=3)\n",
        "knn.fit(X_train,y_train)\n",
        "y_pred = knn.predict(X_test)\n",
        "y_pred"
      ],
      "metadata": {
        "colab": {
          "base_uri": "https://localhost:8080/"
        },
        "id": "oG1N8x3vnKzc",
        "outputId": "993a76a9-6556-433c-eac0-f2dfa86a453b"
      },
      "execution_count": null,
      "outputs": [
        {
          "output_type": "execute_result",
          "data": {
            "text/plain": [
              "array([2, 2, 1, 0, 2, 1, 0, 2, 0, 1, 1, 0, 2, 0, 0, 1, 1, 1, 2, 0, 2, 0,\n",
              "       0, 0, 2, 0, 0, 2, 1, 1])"
            ]
          },
          "metadata": {},
          "execution_count": 5
        }
      ]
    },
    {
      "cell_type": "code",
      "source": [
        "from sklearn import metrics\n",
        "print(\"Accuracy: \",metrics.accuracy_score(y_pred,y_test))\n",
        "from sklearn.metrics import confusion_matrix,classification_report\n",
        "print(confusion_matrix(y_test,y_pred))\n",
        "print(classification_report(y_test,y_pred))"
      ],
      "metadata": {
        "colab": {
          "base_uri": "https://localhost:8080/"
        },
        "id": "cd39Fqfono_w",
        "outputId": "0017e122-a55a-402b-d6aa-48b42f9dc593"
      },
      "execution_count": null,
      "outputs": [
        {
          "output_type": "stream",
          "name": "stdout",
          "text": [
            "Accuracy:  0.9666666666666667\n",
            "[[12  0  0]\n",
            " [ 0  8  0]\n",
            " [ 0  1  9]]\n",
            "              precision    recall  f1-score   support\n",
            "\n",
            "           0       1.00      1.00      1.00        12\n",
            "           1       0.89      1.00      0.94         8\n",
            "           2       1.00      0.90      0.95        10\n",
            "\n",
            "    accuracy                           0.97        30\n",
            "   macro avg       0.96      0.97      0.96        30\n",
            "weighted avg       0.97      0.97      0.97        30\n",
            "\n"
          ]
        }
      ]
    },
    {
      "cell_type": "code",
      "source": [
        "predicted = knn.predict(X_test)\n",
        "pre_target = [iris.target_names[i] for i in predicted]\n",
        "print(\"pre_target: \",pre_target,\"\\n\\n\")\n",
        "actual_target = [ iris.target_names[i] for i in y_test]\n",
        "print(\"actual_target: \",actual_target,\"\\n\\n\")\n",
        "print(\"\\tpredicted\\t\\tActual\\t\\t\\tAnswer\")\n",
        "for i in range(0,len(pre_target)):\n",
        "  print(i,\":\\t\",pre_target[i],\"\\t\\t\",actual_target[i],\"\\t\",end='\\t')\n",
        "  if(pre_target[i]==actual_target[i]):\n",
        "    print(\"yes\")\n",
        "  else:\n",
        "    print(\"No\")"
      ],
      "metadata": {
        "colab": {
          "base_uri": "https://localhost:8080/"
        },
        "id": "0IuzAgbgoOMf",
        "outputId": "7c69b4bd-cdf4-4b18-800f-4ce97e0e89a4"
      },
      "execution_count": null,
      "outputs": [
        {
          "output_type": "stream",
          "name": "stdout",
          "text": [
            "pre_target:  ['virginica', 'virginica', 'versicolor', 'setosa', 'virginica', 'versicolor', 'setosa', 'virginica', 'setosa', 'versicolor', 'versicolor', 'setosa', 'virginica', 'setosa', 'setosa', 'versicolor', 'versicolor', 'versicolor', 'virginica', 'setosa', 'virginica', 'setosa', 'setosa', 'setosa', 'virginica', 'setosa', 'setosa', 'virginica', 'versicolor', 'versicolor'] \n",
            "\n",
            "\n",
            "actual_target:  ['virginica', 'virginica', 'versicolor', 'setosa', 'virginica', 'versicolor', 'setosa', 'virginica', 'setosa', 'versicolor', 'versicolor', 'setosa', 'virginica', 'setosa', 'setosa', 'virginica', 'versicolor', 'versicolor', 'virginica', 'setosa', 'virginica', 'setosa', 'setosa', 'setosa', 'virginica', 'setosa', 'setosa', 'virginica', 'versicolor', 'versicolor'] \n",
            "\n",
            "\n",
            "\tpredicted\t\tActual\t\t\tAnswer\n",
            "0 :\t virginica \t\t virginica \t\tyes\n",
            "1 :\t virginica \t\t virginica \t\tyes\n",
            "2 :\t versicolor \t\t versicolor \t\tyes\n",
            "3 :\t setosa \t\t setosa \t\tyes\n",
            "4 :\t virginica \t\t virginica \t\tyes\n",
            "5 :\t versicolor \t\t versicolor \t\tyes\n",
            "6 :\t setosa \t\t setosa \t\tyes\n",
            "7 :\t virginica \t\t virginica \t\tyes\n",
            "8 :\t setosa \t\t setosa \t\tyes\n",
            "9 :\t versicolor \t\t versicolor \t\tyes\n",
            "10 :\t versicolor \t\t versicolor \t\tyes\n",
            "11 :\t setosa \t\t setosa \t\tyes\n",
            "12 :\t virginica \t\t virginica \t\tyes\n",
            "13 :\t setosa \t\t setosa \t\tyes\n",
            "14 :\t setosa \t\t setosa \t\tyes\n",
            "15 :\t versicolor \t\t virginica \t\tNo\n",
            "16 :\t versicolor \t\t versicolor \t\tyes\n",
            "17 :\t versicolor \t\t versicolor \t\tyes\n",
            "18 :\t virginica \t\t virginica \t\tyes\n",
            "19 :\t setosa \t\t setosa \t\tyes\n",
            "20 :\t virginica \t\t virginica \t\tyes\n",
            "21 :\t setosa \t\t setosa \t\tyes\n",
            "22 :\t setosa \t\t setosa \t\tyes\n",
            "23 :\t setosa \t\t setosa \t\tyes\n",
            "24 :\t virginica \t\t virginica \t\tyes\n",
            "25 :\t setosa \t\t setosa \t\tyes\n",
            "26 :\t setosa \t\t setosa \t\tyes\n",
            "27 :\t virginica \t\t virginica \t\tyes\n",
            "28 :\t versicolor \t\t versicolor \t\tyes\n",
            "29 :\t versicolor \t\t versicolor \t\tyes\n"
          ]
        }
      ]
    }
  ]
}
