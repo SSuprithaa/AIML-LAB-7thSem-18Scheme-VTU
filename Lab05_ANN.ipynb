{
  "nbformat": 4,
  "nbformat_minor": 0,
  "metadata": {
    "colab": {
      "provenance": [],
      "authorship_tag": "ABX9TyNV1m7NTFYoBUHW0lhi8p8p"
    },
    "kernelspec": {
      "name": "python3",
      "display_name": "Python 3"
    },
    "language_info": {
      "name": "python"
    }
  },
  "cells": [
    {
      "cell_type": "code",
      "execution_count": null,
      "metadata": {
        "colab": {
          "base_uri": "https://localhost:8080/"
        },
        "id": "xxsdyi-tKkeJ",
        "outputId": "ca6e7bce-c684-4daa-f674-3a7ec0cc5a74"
      },
      "outputs": [
        {
          "output_type": "stream",
          "name": "stdout",
          "text": [
            "[[0.66666667 1.        ]\n",
            " [0.33333333 0.55555556]\n",
            " [1.         0.66666667]]\n",
            "[[0.92]\n",
            " [0.86]\n",
            " [0.89]]\n"
          ]
        }
      ],
      "source": [
        "import numpy as np\n",
        "X = np.array(([2,9],[1,5],[3,6]),dtype=float)\n",
        "Y = np.array(([92],[86],[89]),dtype=float)\n",
        "X = X/np.amax(X,axis=0)\n",
        "actual_output = Y/100\n",
        "print(X)\n",
        "print(actual_output)\n"
      ]
    },
    {
      "cell_type": "code",
      "source": [
        "def sigmoid(x):\n",
        "  return (1/(1+np.exp(-x)))\n",
        "def derivatives_sigmoid(x):\n",
        "  return x * (1-x)\n",
        "\n",
        "epoch = 5000\n",
        "lr =0.15\n",
        "ipn=2\n",
        "hn=3\n",
        "opn=1\n",
        "wh = np.random.uniform(low=-0.05,high=0.05,size=(ipn,hn))\n",
        "bh = np.random.uniform(low=-0.05,high=0.05,size=(1,hn))\n",
        "wo = np.random.uniform(low=-0.05,high=0.05,size=(hn,opn))\n",
        "bo = np.random.uniform(low=-0.05,high=0.05,size=(1,opn))\n",
        "for i in range(epoch):\n",
        "  net_h = np.dot(X,wh) + bh\n",
        "  sigma_h = sigmoid(net_h)\n",
        "  net_o = np.dot(sigma_h,wo) + bo\n",
        "  output = sigmoid(net_o)\n",
        "\n",
        "  eo = actual_output-output\n",
        "  outgrad = derivatives_sigmoid(output)\n",
        "  d_output = eo*outgrad\n",
        "  eh = d_output.dot(wo.T)\n",
        "  hiddengrad = derivatives_sigmoid(sigma_h)\n",
        "  d_hidden = eh*hiddengrad\n",
        "  wo += sigma_h.T.dot(d_output)*lr\n",
        "  wh += X.T.dot(d_hidden)*lr\n",
        "  sum_error = 0\n",
        "  for j in range(len(actual_output)):\n",
        "    sum_error += output[j]-actual_output[j]\n",
        "  sum_error/=2\n",
        "print(\"Normalized Input: \\n\",str(X))\n",
        "print(\"Actual_output: \\n\",str(actual_ouput))\n",
        "print(\"Predicted output:\\n\",output) \n",
        "\n"
      ],
      "metadata": {
        "colab": {
          "base_uri": "https://localhost:8080/"
        },
        "id": "xUkHDnthLVlO",
        "outputId": "d4bbd111-b120-4af1-c40c-3f6308c3219a"
      },
      "execution_count": null,
      "outputs": [
        {
          "output_type": "stream",
          "name": "stdout",
          "text": [
            "Normalized Input: \n",
            " [[0.66666667 1.        ]\n",
            " [0.33333333 0.55555556]\n",
            " [1.         0.66666667]]\n",
            "Actual_output: \n",
            " [[0.92]\n",
            " [0.86]\n",
            " [0.89]]\n",
            "Predicted output:\n",
            " [[0.89793523]\n",
            " [0.87632195]\n",
            " [0.89576695]]\n"
          ]
        }
      ]
    }
  ]
}