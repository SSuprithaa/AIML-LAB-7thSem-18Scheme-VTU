{
  "nbformat": 4,
  "nbformat_minor": 0,
  "metadata": {
    "colab": {
      "provenance": [],
      "authorship_tag": "ABX9TyN6emh0IXkb/cWxNB5YoYBj"
    },
    "kernelspec": {
      "name": "python3",
      "display_name": "Python 3"
    },
    "language_info": {
      "name": "python"
    }
  },
  "cells": [
    {
      "cell_type": "markdown",
      "source": [
        "**A Star Alogrithm**"
      ],
      "metadata": {
        "id": "7Cpuz7PjisD3"
      }
    },
    {
      "cell_type": "code",
      "execution_count": null,
      "metadata": {
        "id": "qa1LENsbYGWE",
        "colab": {
          "base_uri": "https://localhost:8080/"
        },
        "outputId": "0a22b2a8-036d-4ef4-8f29-ca191a01d2c8"
      },
      "outputs": [
        {
          "output_type": "stream",
          "name": "stdout",
          "text": [
            "Path found :['A', 'F', 'G', 'I', 'J']\n"
          ]
        },
        {
          "output_type": "execute_result",
          "data": {
            "text/plain": [
              "['A', 'F', 'G', 'I', 'J']"
            ]
          },
          "metadata": {},
          "execution_count": 12
        }
      ],
      "source": [
        "def astar(start_node,stop_node):\n",
        "  open_set =set(start_node)\n",
        "  close_set =set()\n",
        "  g={}\n",
        "  g[start_node]=0\n",
        "  parents={}\n",
        "  parents[start_node]=start_node\n",
        "  while len(open_set)>0:\n",
        "    n=None\n",
        "    for v in open_set:\n",
        "      if n==None or g[v]+heuristic(v) < g[n]+heuristic(n):\n",
        "        n=v\n",
        "    if n==stop_node or graph_nodes[n]== None:\n",
        "      pass\n",
        "    else:\n",
        "      for (m,w) in get_neighbors(n):\n",
        "        if m not in open_set and m not in close_set:\n",
        "          open_set.add(m)\n",
        "          parents[m]=n\n",
        "          g[m]=g[n]+w\n",
        "        else:\n",
        "          if g[m]>g[n]+w:\n",
        "            g[m]=g[n]+w\n",
        "            parents[m]=n\n",
        "            if m in close_set:\n",
        "              close_set.remove(m)\n",
        "              open_set.add(m)\n",
        "    if n==None:\n",
        "    \n",
        "      return None\n",
        "    if n==stop_node:\n",
        "      path=[]\n",
        "      while(parents[n]!=n):\n",
        "        path.append(n)\n",
        "        n=parents[n]\n",
        "      path.append(start_node)\n",
        "      path.reverse()\n",
        "      print('Path found :{}'.format(path))\n",
        "      return path\n",
        "    open_set.remove(n)\n",
        "    close_set.add(n)\n",
        "    \n",
        "  return None\n",
        "def get_neighbors(v):\n",
        "  if v in graph_nodes:\n",
        "    return graph_nodes[v]\n",
        "  else:\n",
        "    return None\n",
        "def heuristic(n):\n",
        "    H_dist = {\n",
        "        'A': 10,\n",
        "        'B': 8,\n",
        "        'C': 5,\n",
        "        'D': 7,\n",
        "        'E': 3,\n",
        "        'F': 6,\n",
        "        'G': 5,\n",
        "        'H': 3,\n",
        "        'I': 1,\n",
        "        'J': 0\n",
        "    }\n",
        "\n",
        "    return H_dist[n]\n",
        "\n",
        "#Describe your graph here\n",
        "graph_nodes = {\n",
        "    \n",
        "    'A': [('B', 6), ('F', 3)],\n",
        "    'B': [('C', 3), ('D', 2)],\n",
        "    'C': [('D', 1), ('E', 5)],\n",
        "    'D': [('C', 1), ('E', 8)],\n",
        "    'E': [('I', 5), ('J', 5)],\n",
        "    'F': [('G', 1),('H', 7)] ,\n",
        "    'G': [('I', 3)],\n",
        "    'H': [('I', 2)],\n",
        "    'I': [('E', 5), ('J', 3)],\n",
        "\n",
        "}\n",
        "astar('A', 'J')"
      ]
    }
  ]
}